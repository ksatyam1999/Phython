{
  "nbformat": 4,
  "nbformat_minor": 0,
  "metadata": {
    "colab": {
      "provenance": []
    },
    "kernelspec": {
      "name": "python3",
      "display_name": "Python 3"
    },
    "language_info": {
      "name": "python"
    }
  },
  "cells": [
    {
      "cell_type": "markdown",
      "source": [
        "1. What is Python, and why is it popular?\n",
        " - python is a high level programming language which is simple and readale.\n",
        "   It's popular because it's easy to learn, has a large community, and is used in web development, data science, AI, automation, and more.\n",
        "   one of the main reason is that, it has inbuilt libraries that makes it popular.\n",
        "\n",
        "2. What is an interpreter in Python?\n",
        " -  an interpreter in python reads and executes the code line by line,converting it into machine language at runtime, unlike compiler that translates the entire code into machine code before execution.\n",
        "\n",
        "3. What are pre-defined keywords in Python?\n",
        " - pre-defined keywords in python are some reserved words that have special meaning. such as if,else,,for,while,true,false etc.\n",
        "\n",
        "4. Can keywords be used as variable names?\n",
        " - no keywords can not be used as variable names, because they have pre_defined meanings and have specific purpose.\n",
        "\n",
        "5. What is mutability in Python?\n",
        " - mutability means whether an object can be changed after it is created.mutable objects can be modified, while immutable ones cannot.\n",
        " such as dictionaries,list and sets are mutable.\n",
        "\n",
        "6. Why are lists mutable, but tuples are immutable?\n",
        " -  Lists are designed to allow changes like adding, removing, or modifying elements. Tuples are immutable for performance reasons and to ensure data integrity when used as keys in dictionaries.\n",
        "\n",
        "7. What is the difference between == and is operators in Python?\n",
        " - == checks if the values of two variables are equal , whereas 'is' checks if they refer to same object in memory.\n",
        "\n",
        "\n",
        "8. What are logical operators in Python?\n",
        " - Logical operators are used to perform logical operations such as : and, or, and not.\n",
        "\n",
        "9. What is type casting in Python?\n",
        " - typecasting in python is converting one data type to another, sucha as converting a string to integer.\n",
        "\n",
        "10. What is the difference between implicit and explicit type casting?\n",
        " - Implicit casting is done automatically by Python. Explicit casting is done manually by the programmer using functions like int(), float(), etc.\n",
        "\n",
        "11. What is the purpose of conditional statements in Python?\n",
        " - conditonal statements are used to perform tasks(execute different codes) based on certain conditions.\n",
        "\n",
        "12. How does the elif statement work?\n",
        " - elif statement is used to check multiple conditions after checking initial if. if the 'if' is false , it checks elif condition in order.\n",
        "\n",
        "13. What is the difference between for and while loops?\n",
        " - A for loop is used when you know ahead of time how many times the loop should run.\n",
        "A while loop is used when the loop should continue based on a condition that might not involve a simple counter.\n",
        "\n",
        "14. Describe a scenario where a while loop is more suitable than a for loop.\n",
        " - A while loop is better when waiting for user input or sensor data where the number of iterations is not known ahead of time.\n",
        "\n",
        "\n"
      ],
      "metadata": {
        "id": "wsK0Iqf3PQht"
      }
    },
    {
      "cell_type": "code",
      "execution_count": 2,
      "metadata": {
        "colab": {
          "base_uri": "https://localhost:8080/"
        },
        "id": "7qq_LsSlPDdO",
        "outputId": "1b9191f8-b626-4858-ff67-d16e3a78496f"
      },
      "outputs": [
        {
          "output_type": "stream",
          "name": "stdout",
          "text": [
            "hello world\n"
          ]
        }
      ],
      "source": [
        "#Practical Questions\n",
        "\n",
        "# 1. Write a Python program to print \"Hello, World!\n",
        "print(\"hello world\")"
      ]
    },
    {
      "cell_type": "code",
      "source": [
        "#2. Write a Python program that displays your name and age.\n",
        "name = \"Satyam Kumar\"\n",
        "age = 24\n",
        "print(\"my name is\", name)\n",
        "print(\"my age is\", age)"
      ],
      "metadata": {
        "colab": {
          "base_uri": "https://localhost:8080/"
        },
        "id": "H8qJDWl_g1hZ",
        "outputId": "15703326-3f8a-4abd-bf4b-b72228900e0e"
      },
      "execution_count": 6,
      "outputs": [
        {
          "output_type": "stream",
          "name": "stdout",
          "text": [
            "my name is Satyam Kumar\n",
            "my age is 24\n"
          ]
        }
      ]
    },
    {
      "cell_type": "code",
      "source": [
        "#3. Write code to print all the pre-defined keywords in Python using the keyword library.\n",
        "import keyword\n",
        "print(keyword.kwlist)\n",
        "\n",
        "\n",
        "\n"
      ],
      "metadata": {
        "colab": {
          "base_uri": "https://localhost:8080/"
        },
        "id": "A0jFJDKph3ch",
        "outputId": "3a56a9f4-4a9c-4772-8e64-be793871f7ed"
      },
      "execution_count": 8,
      "outputs": [
        {
          "output_type": "stream",
          "name": "stdout",
          "text": [
            "['False', 'None', 'True', 'and', 'as', 'assert', 'async', 'await', 'break', 'class', 'continue', 'def', 'del', 'elif', 'else', 'except', 'finally', 'for', 'from', 'global', 'if', 'import', 'in', 'is', 'lambda', 'nonlocal', 'not', 'or', 'pass', 'raise', 'return', 'try', 'while', 'with', 'yield']\n"
          ]
        }
      ]
    },
    {
      "cell_type": "code",
      "source": [
        "#4. Write a program that checks if a given word is a Python keyword\n",
        "import keyword\n",
        "x = input(\"enter a word: \")\n",
        "if x in keyword.kwlist:\n",
        "  print(\"this is a python keyword.\")\n",
        "else:\n",
        "  print(\"this is not a python keyword.\")\n",
        "\n",
        "\n"
      ],
      "metadata": {
        "colab": {
          "base_uri": "https://localhost:8080/"
        },
        "id": "uk5ur9nUjNtS",
        "outputId": "63d36409-62c5-4099-f886-6e3716b3b39d"
      },
      "execution_count": 19,
      "outputs": [
        {
          "output_type": "stream",
          "name": "stdout",
          "text": [
            "enter a word: if\n",
            "this is a python keyword.\n"
          ]
        }
      ]
    },
    {
      "cell_type": "code",
      "source": [
        "#5.  Create a list and tuple in Python, and demonstrate how attempting to change an element works differently for each.\n",
        "my_list = [1,2,3,4]\n",
        "my_list[0] = 5\n",
        "print(\"modified list:\", my_list)\n",
        "\n",
        "my_tuple = (1,2,3,4)\n",
        "# my_tuple[1] = 5 # this will show an Error\n",
        "\n",
        "\n"
      ],
      "metadata": {
        "colab": {
          "base_uri": "https://localhost:8080/"
        },
        "id": "hVXJowmtkzKK",
        "outputId": "43c0c90f-cc00-4e8e-e27e-004193c5204e"
      },
      "execution_count": 30,
      "outputs": [
        {
          "output_type": "stream",
          "name": "stdout",
          "text": [
            "modified list: [5, 2, 3, 4]\n"
          ]
        }
      ]
    },
    {
      "cell_type": "code",
      "source": [
        "#6. Write a function to demonstrate the behavior of mutable and immutable arguments\n",
        "\n",
        "def change_data(a, b):\n",
        "    a = a + 1\n",
        "    b[0] = b[0] + 1\n",
        "    print(\"Inside function:\", a, b)\n",
        "\n",
        "x = 10\n",
        "y = [10]\n",
        "change_data(x, y)\n",
        "print(\"Outside function:\", x, y)"
      ],
      "metadata": {
        "colab": {
          "base_uri": "https://localhost:8080/"
        },
        "id": "kXSEc_J5o7sz",
        "outputId": "c05e4fc0-7f9f-4aa0-f842-1018120770f9"
      },
      "execution_count": 31,
      "outputs": [
        {
          "output_type": "stream",
          "name": "stdout",
          "text": [
            "Inside function: 11 [11]\n",
            "Outside function: 10 [11]\n"
          ]
        }
      ]
    },
    {
      "cell_type": "code",
      "source": [
        "#7. Write a program that performs basic arithmetic operations on two user-input numbers.\n",
        "a = int(input(\"enter the first number: \"))\n",
        "b = int(input(\"enter the second number: \"))\n",
        "print(\"sum:\", a+b)\n",
        "print(\"diffrence:\", a-b)\n",
        "print(\"Product:\", a * b)\n",
        "print(\"Quotient:\", a / b)"
      ],
      "metadata": {
        "colab": {
          "base_uri": "https://localhost:8080/"
        },
        "id": "Fq2DE-VtuTaF",
        "outputId": "08887577-30f3-41bf-ef8f-25cba7f7fc27"
      },
      "execution_count": 33,
      "outputs": [
        {
          "output_type": "stream",
          "name": "stdout",
          "text": [
            "enter the first number: 2\n",
            "enter the second number: 2\n",
            "sum: 4\n",
            "diffrence: 0\n",
            "Product: 4\n",
            "Quotient: 1.0\n"
          ]
        }
      ]
    },
    {
      "cell_type": "code",
      "source": [
        "#8.  Write a program to demonstrate the use of logical operators.\n",
        "a = 10\n",
        "b = 5\n",
        "print(a > 5 and b < 10)\n",
        "print(a < 5 or b < 10)\n",
        "print(not(b == a))"
      ],
      "metadata": {
        "colab": {
          "base_uri": "https://localhost:8080/"
        },
        "id": "s-43OVVWwiAE",
        "outputId": "cac4b496-9b9a-4646-fd95-9324c213ecc3"
      },
      "execution_count": 38,
      "outputs": [
        {
          "output_type": "stream",
          "name": "stdout",
          "text": [
            "True\n",
            "True\n",
            "True\n"
          ]
        }
      ]
    },
    {
      "cell_type": "code",
      "source": [
        "#9.  Write a Python program to convert user input from string to integer, float, and boolean types\n",
        "a = \"2\"\n",
        "print(\"integer:\", int(a))\n",
        "print(\"float:\", float(a))\n",
        "print(\"boolean:\", bool(a))\n"
      ],
      "metadata": {
        "colab": {
          "base_uri": "https://localhost:8080/"
        },
        "id": "AKb3rZ0wzukL",
        "outputId": "a1407e4a-c501-4d93-f86b-c908dd4c07b1"
      },
      "execution_count": 45,
      "outputs": [
        {
          "output_type": "stream",
          "name": "stdout",
          "text": [
            "integer: 2\n",
            "float: 2.0\n",
            "boolean: True\n"
          ]
        }
      ]
    },
    {
      "cell_type": "code",
      "source": [
        "#10.  Write code to demonstrate type casting with list elements.\n",
        "str_list = [\"1\", \"2\", \"3\"]\n",
        "int_list = [int(x) for x in str_list]\n",
        "print(\"covertedint_list:\", int_list)\n"
      ],
      "metadata": {
        "colab": {
          "base_uri": "https://localhost:8080/"
        },
        "id": "pCmNReXI0W7U",
        "outputId": "9dee9c66-1632-4ea9-85fd-3abb4fda2281"
      },
      "execution_count": 59,
      "outputs": [
        {
          "output_type": "stream",
          "name": "stdout",
          "text": [
            "covertedint_list: [1, 2, 3]\n"
          ]
        }
      ]
    },
    {
      "cell_type": "code",
      "source": [
        "#11. Write a program that checks if a number is positive, negative, or zero\n",
        "a = int(input(\"enter a number:\"))\n",
        "if a > 0:\n",
        "  print(\"positive\")\n",
        "elif a < 0:\n",
        "  print(\"negative\")\n",
        "else:\n",
        "  print(\"zero\")\n",
        "\n",
        "\n"
      ],
      "metadata": {
        "colab": {
          "base_uri": "https://localhost:8080/"
        },
        "id": "W20jv9Uf1-SN",
        "outputId": "b09c9905-2076-49a6-d038-cfc3c370c57f"
      },
      "execution_count": 64,
      "outputs": [
        {
          "output_type": "stream",
          "name": "stdout",
          "text": [
            "enter a number:-1\n",
            "negative\n"
          ]
        }
      ]
    },
    {
      "cell_type": "code",
      "source": [
        "#12. Write a for loop to print numbers from 1 to 10\n",
        "for i in range(1, 11):\n",
        "  print(i)\n",
        "\n",
        "\n",
        "\n",
        "\n",
        "\n"
      ],
      "metadata": {
        "colab": {
          "base_uri": "https://localhost:8080/"
        },
        "id": "6nrWZZdP4gjF",
        "outputId": "da8868d0-1e64-49ec-b873-522c48265637"
      },
      "execution_count": 72,
      "outputs": [
        {
          "output_type": "stream",
          "name": "stdout",
          "text": [
            "1\n",
            "2\n",
            "3\n",
            "4\n",
            "5\n",
            "6\n",
            "7\n",
            "8\n",
            "9\n",
            "10\n"
          ]
        }
      ]
    },
    {
      "cell_type": "code",
      "source": [
        "#13. Write a Python program to find the sum of all even numbers between 1 and 50.\n",
        "total = 0\n",
        "for i in range(1,51):\n",
        "  if i % 2 == 0:\n",
        "    total += i\n",
        "print(\"sum of even number from 1 to 50 is:\", total)\n",
        "\n",
        "\n",
        "\n",
        "\n"
      ],
      "metadata": {
        "colab": {
          "base_uri": "https://localhost:8080/"
        },
        "id": "EOv8uu4X57hu",
        "outputId": "00fbc0a1-4f53-4324-a00f-21504869363f"
      },
      "execution_count": 79,
      "outputs": [
        {
          "output_type": "stream",
          "name": "stdout",
          "text": [
            "sum of even number from 1 to 50 is: 650\n"
          ]
        }
      ]
    },
    {
      "cell_type": "code",
      "source": [
        " #14. Write a program to reverse a string using a while loop\n",
        " s = input(\"Enter a string: \")\n",
        "rev = ''\n",
        "i = len(s) - 1\n",
        "while i >= 0:\n",
        "    rev += s[i]\n",
        "    i -= 1\n",
        "print(\"Reversed string:\", rev)"
      ],
      "metadata": {
        "colab": {
          "base_uri": "https://localhost:8080/"
        },
        "id": "jhUr2HEF7lcf",
        "outputId": "b7b6b292-e78f-422f-dae4-9acf19f46ab2"
      },
      "execution_count": 80,
      "outputs": [
        {
          "output_type": "stream",
          "name": "stdout",
          "text": [
            "Enter a string: ajay\n",
            "Reversed string: yaja\n"
          ]
        }
      ]
    },
    {
      "cell_type": "code",
      "source": [
        "#15.  Write a Python program to calculate the factorial of a number provided by the user using a while loop\n",
        "n = 5\n",
        "fact = 1\n",
        "i = 1\n",
        "while i <= n:\n",
        "    fact *= i\n",
        "    i += 1\n",
        "print(\"Factorial:\", fact)"
      ],
      "metadata": {
        "colab": {
          "base_uri": "https://localhost:8080/"
        },
        "id": "IIlPh6Bz_aBm",
        "outputId": "d4f13ed6-db15-4d92-a7ce-11e4787c3f29"
      },
      "execution_count": 84,
      "outputs": [
        {
          "output_type": "stream",
          "name": "stdout",
          "text": [
            "Factorial: 120\n"
          ]
        }
      ]
    },
    {
      "cell_type": "code",
      "source": [],
      "metadata": {
        "id": "6pNUetiIAGRm"
      },
      "execution_count": null,
      "outputs": []
    }
  ]
}